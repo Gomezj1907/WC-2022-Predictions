{
 "cells": [
  {
   "cell_type": "code",
   "execution_count": 2,
   "metadata": {},
   "outputs": [],
   "source": [
    "import pandas as pd\n",
    "import pickle\n",
    "from scipy.stats import poisson\n"
   ]
  },
  {
   "cell_type": "code",
   "execution_count": 3,
   "metadata": {},
   "outputs": [],
   "source": [
    "# Set up\n",
    "\n",
    "dict_table = pickle.load(open('01_data_collect/output/dict_tables', 'rb'))"
   ]
  },
  {
   "cell_type": "markdown",
   "metadata": {},
   "source": [
    "## Puntaje del equipo"
   ]
  },
  {
   "cell_type": "code",
   "execution_count": 4,
   "metadata": {},
   "outputs": [
    {
     "data": {
      "text/plain": [
       "{'Group A':    Pos         Team  Pld  W  D  L  GF  GA  GD  Pts\n",
       " 0    1  Netherlands    3  2  1  0   5   1  +4    7\n",
       " 1    2      Senegal    3  2  0  1   5   4  +1    6\n",
       " 2    3      Ecuador    3  1  1  1   4   3  +1    4\n",
       " 3    4    Qatar (H)    3  0  0  3   1   7  −6    0,\n",
       " 'Group B':    Pos           Team  Pld  W  D  L  GF  GA  GD  Pts\n",
       " 0    1        England    3  2  1  0   9   2  +7    7\n",
       " 1    2  United States    3  1  2  0   2   1  +1    5\n",
       " 2    3           Iran    3  1  0  2   4   7  −3    3\n",
       " 3    4          Wales    3  0  1  2   1   6  −5    1,\n",
       " 'Group C':    Pos          Team  Pld  W  D  L  GF  GA  GD  Pts\n",
       " 0    1     Argentina    3  2  0  1   5   2  +3    6\n",
       " 1    2        Poland    3  1  1  1   2   2   0    4\n",
       " 2    3        Mexico    3  1  1  1   2   3  −1    4\n",
       " 3    4  Saudi Arabia    3  1  0  2   3   5  −2    3,\n",
       " 'Group D':    Pos       Team  Pld  W  D  L  GF  GA  GD  Pts\n",
       " 0    1     France    3  2  0  1   6   3  +3    6\n",
       " 1    2  Australia    3  2  0  1   3   4  −1    6\n",
       " 2    3    Tunisia    3  1  1  1   1   1   0    4\n",
       " 3    4    Denmark    3  0  1  2   1   3  −2    1,\n",
       " 'Group E':    Pos        Team  Pld  W  D  L  GF  GA  GD  Pts\n",
       " 0    1       Japan    3  2  0  1   4   3  +1    6\n",
       " 1    2       Spain    3  1  1  1   9   3  +6    4\n",
       " 2    3     Germany    3  1  1  1   6   5  +1    4\n",
       " 3    4  Costa Rica    3  1  0  2   3  11  −8    3,\n",
       " 'Group F':    Pos     Team  Pld  W  D  L  GF  GA  GD  Pts\n",
       " 0    1  Morocco    3  2  1  0   4   1  +3    7\n",
       " 1    2  Croatia    3  1  2  0   4   1  +3    5\n",
       " 2    3  Belgium    3  1  1  1   1   2  −1    4\n",
       " 3    4   Canada    3  0  0  3   2   7  −5    0,\n",
       " 'Group G':    Pos         Team  Pld  W  D  L  GF  GA  GD  Pts\n",
       " 0    1       Brazil    3  2  0  1   3   1  +2    6\n",
       " 1    2  Switzerland    3  2  0  1   4   3  +1    6\n",
       " 2    3     Cameroon    3  1  1  1   4   4   0    4\n",
       " 3    4       Serbia    3  0  1  2   5   8  −3    1,\n",
       " 'Group H':    Pos         Team  Pld  W  D  L  GF  GA  GD  Pts\n",
       " 0    1     Portugal    3  2  0  1   6   4  +2    6\n",
       " 1    2  South Korea    3  1  1  1   4   4   0    4\n",
       " 2    3      Uruguay    3  1  1  1   2   2   0    4\n",
       " 3    4        Ghana    3  1  0  2   5   7  −2    3}"
      ]
     },
     "execution_count": 4,
     "metadata": {},
     "output_type": "execute_result"
    }
   ],
   "source": [
    "dict_table"
   ]
  },
  {
   "cell_type": "code",
   "execution_count": null,
   "metadata": {},
   "outputs": [],
   "source": []
  }
 ],
 "metadata": {
  "kernelspec": {
   "display_name": "sports_env",
   "language": "python",
   "name": "python3"
  },
  "language_info": {
   "codemirror_mode": {
    "name": "ipython",
    "version": 3
   },
   "file_extension": ".py",
   "mimetype": "text/x-python",
   "name": "python",
   "nbconvert_exporter": "python",
   "pygments_lexer": "ipython3",
   "version": "3.11.5"
  }
 },
 "nbformat": 4,
 "nbformat_minor": 2
}
